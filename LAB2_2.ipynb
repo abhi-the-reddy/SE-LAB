{
  "nbformat": 4,
  "nbformat_minor": 0,
  "metadata": {
    "colab": {
      "provenance": [],
      "mount_file_id": "1qu_wblnTlt-qeXRS_NZKnX03yMtTD1Pv",
      "authorship_tag": "ABX9TyPMflQflgbUVTXuDdT/SwYi",
      "include_colab_link": true
    },
    "kernelspec": {
      "name": "python3",
      "display_name": "Python 3"
    },
    "language_info": {
      "name": "python"
    }
  },
  "cells": [
    {
      "cell_type": "markdown",
      "metadata": {
        "id": "view-in-github",
        "colab_type": "text"
      },
      "source": [
        "<a href=\"https://colab.research.google.com/github/abhi-the-reddy/SE-LAB/blob/main/LAB2_2.ipynb\" target=\"_parent\"><img src=\"https://colab.research.google.com/assets/colab-badge.svg\" alt=\"Open In Colab\"/></a>"
      ]
    },
    {
      "cell_type": "code",
      "source": [
        "from google.colab import drive\n",
        "import os\n",
        "import pandas as pd\n",
        "\n",
        "\n",
        "drive.mount('/content/drive')\n",
        "\n",
        "file_path = '/content/drive/MyDrive/SE LAB SEM6/temp.humidity.wind.csv'\n",
        "\n",
        "if os.path.exists(file_path):\n",
        "    try:\n",
        "\n",
        "        df = pd.read_csv(file_path)\n",
        "        print(\"Dataset loaded successfully!\")\n",
        "        print(\"Columns in the updated dataset:\", df.columns)\n",
        "    except Exception as e:\n",
        "        print(\"Error loading the file:\", e)\n",
        "else:\n",
        "    print(f\"File does not exist at the path: {file_path}\")\n",
        "\n",
        "\n",
        "df.columns = df.columns.str.strip()\n",
        "\n",
        "\n",
        "user_input = input(\"\\nEnter city names separated by commas (e.g., Mumbai, Delhi): \")\n",
        "user_cities = [city.strip() for city in user_input.split(\",\")]\n",
        "\n",
        "valid_cities = df[\"CITY\"].unique()\n",
        "matched_cities = [city for city in user_cities if city in valid_cities]\n",
        "\n",
        "if not matched_cities:\n",
        "    print(\"No valid cities found in the dataset. Exiting.\")\n",
        "else:\n",
        "    print(f\"\\nProcessing data for the following matched cities: {matched_cities}\")\n",
        "\n",
        "\n",
        "def calculate_weather(temp, humidity, wind_speed):\n",
        "    W = (0.5 * temp**2) - (0.2 * humidity) + (0.1 * wind_speed) - 15\n",
        "    return W\n",
        "\n",
        "\n",
        "def categorize_weather(W):\n",
        "    if W > 300:\n",
        "        return \"Cloudy\"\n",
        "    elif 200 < W <= 300:\n",
        "        return \"Sunny\"\n",
        "    else:\n",
        "        return \"Rainy\"\n",
        "\n",
        "\n",
        "manual_input = input(\"\\nWould you like to manually input weather data for cities? (yes/no): \").strip().lower()\n",
        "\n",
        "print(\"\\nWeather Prediction Results:\")\n",
        "\n",
        "for city in matched_cities:\n",
        "    if manual_input == 'yes':\n",
        "\n",
        "        print(f\"\\nEnter data for {city}:\")\n",
        "        temp = float(input(\"Enter Temperature (°C): \"))\n",
        "        humidity = float(input(\"Enter Humidity (%): \"))\n",
        "        wind_speed = float(input(\"Enter Wind Speed (m/s): \"))\n",
        "    else:\n",
        "\n",
        "        city_data = df[df[\"CITY\"] == city].iloc[0]\n",
        "        temp = city_data[\"TEMPERATURE\"]\n",
        "        humidity = city_data[\"HUMIDITY\"]\n",
        "        wind_speed = city_data[\"WIND SPEED\"]\n",
        "\n",
        "    modeled_weather = calculate_weather(temp, humidity, wind_speed)\n",
        "    weather_condition = categorize_weather(modeled_weather)\n",
        "\n",
        "    print(\n",
        "        f\"\\nCity: {city}\\n\"\n",
        "        f\"Temperature: {temp} °C\\n\"\n",
        "        f\"Humidity: {humidity} %\\n\"\n",
        "        f\"Wind Speed: {wind_speed} m/s\\n\"\n",
        "        f\"Calculated Weather Value (W): {modeled_weather:.2f}\\n\"\n",
        "        f\"Weather Condition: {weather_condition}\\n\"\n",
        "    )\n"
      ],
      "metadata": {
        "colab": {
          "base_uri": "https://localhost:8080/"
        },
        "id": "7suVtOm9d_QM",
        "outputId": "56268154-04fd-4641-bb60-c58319717a19"
      },
      "execution_count": 8,
      "outputs": [
        {
          "output_type": "stream",
          "name": "stdout",
          "text": [
            "Drive already mounted at /content/drive; to attempt to forcibly remount, call drive.mount(\"/content/drive\", force_remount=True).\n",
            "Dataset loaded successfully!\n",
            "Columns in the updated dataset: Index(['CITY', 'TEMPERATURE ', 'HUMIDITY', 'WIND SPEED'], dtype='object')\n",
            "\n",
            "Enter city names separated by commas (e.g., Mumbai, Delhi): Mumbai\n",
            "\n",
            "Processing data for the following matched cities: ['Mumbai']\n",
            "\n",
            "Would you like to manually input weather data for cities? (yes/no): no\n",
            "\n",
            "Weather Prediction Results:\n",
            "\n",
            "City: Mumbai\n",
            "Temperature: 32 °C\n",
            "Humidity: 75 %\n",
            "Wind Speed: 5.0 m/s\n",
            "Calculated Weather Value (W): 482.50\n",
            "Weather Condition: Cloudy\n",
            "\n"
          ]
        }
      ]
    }
  ]
}