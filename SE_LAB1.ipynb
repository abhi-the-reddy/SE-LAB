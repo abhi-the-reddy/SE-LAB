{
  "nbformat": 4,
  "nbformat_minor": 0,
  "metadata": {
    "colab": {
      "provenance": [],
      "authorship_tag": "ABX9TyNRi2ep9sEZ1Lv/0Jpqutk7",
      "include_colab_link": true
    },
    "kernelspec": {
      "name": "python3",
      "display_name": "Python 3"
    },
    "language_info": {
      "name": "python"
    }
  },
  "cells": [
    {
      "cell_type": "markdown",
      "metadata": {
        "id": "view-in-github",
        "colab_type": "text"
      },
      "source": [
        "<a href=\"https://colab.research.google.com/github/abhi-the-reddy/SE-LAB/blob/main/SE_LAB1.ipynb\" target=\"_parent\"><img src=\"https://colab.research.google.com/assets/colab-badge.svg\" alt=\"Open In Colab\"/></a>"
      ]
    },
    {
      "cell_type": "code",
      "execution_count": null,
      "metadata": {
        "colab": {
          "base_uri": "https://localhost:8080/"
        },
        "id": "6pqsbrJ2efj7",
        "outputId": "abb80b74-9a4b-42de-a66b-1fd97ac570bb"
      },
      "outputs": [
        {
          "output_type": "stream",
          "name": "stdout",
          "text": [
            "Enter a number5\n",
            "The factorial is : 120\n"
          ]
        }
      ],
      "source": [
        "n=int(input(\"Enter a number\"))\n",
        "fact = 1\n",
        "\n",
        "for i in range(1, n+1):\n",
        "    fact = fact * i\n",
        "\n",
        "print(\"The factorial is : \", end=\"\")\n",
        "print(fact)"
      ]
    }
  ]
}