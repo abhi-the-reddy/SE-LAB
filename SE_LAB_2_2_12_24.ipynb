{
  "nbformat": 4,
  "nbformat_minor": 0,
  "metadata": {
    "colab": {
      "provenance": [],
      "mount_file_id": "11eTpoNZlz5AzaBCsjaZWFSyLdTUxVl1B",
      "authorship_tag": "ABX9TyNsrei+iDLIgNcgCtL8H9xE",
      "include_colab_link": true
    },
    "kernelspec": {
      "name": "python3",
      "display_name": "Python 3"
    },
    "language_info": {
      "name": "python"
    }
  },
  "cells": [
    {
      "cell_type": "markdown",
      "metadata": {
        "id": "view-in-github",
        "colab_type": "text"
      },
      "source": [
        "<a href=\"https://colab.research.google.com/github/abhi-the-reddy/SE-LAB/blob/main/SE_LAB_2_2_12_24.ipynb\" target=\"_parent\"><img src=\"https://colab.research.google.com/assets/colab-badge.svg\" alt=\"Open In Colab\"/></a>"
      ]
    },
    {
      "cell_type": "code",
      "source": [
        "'''IMPLEMENT WEATHER MODELING USING THE QUADRATIC EQUATION SOLUTION IN STAGES'''"
      ],
      "metadata": {
        "id": "3Xtcw5hFjC14"
      },
      "execution_count": null,
      "outputs": []
    },
    {
      "cell_type": "code",
      "execution_count": 1,
      "metadata": {
        "id": "wLX1P3bae37_"
      },
      "outputs": [],
      "source": [
        "file_path = '/content/drive/MyDrive/wdata.xlsx'"
      ]
    },
    {
      "cell_type": "code",
      "source": [
        "import pandas as pd\n",
        "try:\n",
        "    df = pd.read_excel(file_path)\n",
        "    print(\"Dataset loaded successfully!\")\n",
        "    print(\"Columns in the updated dataset:\", df.columns)\n",
        "except Exception as e:\n",
        "    print(\"Error loading the file:\", e)"
      ],
      "metadata": {
        "colab": {
          "base_uri": "https://localhost:8080/"
        },
        "id": "ZSXBquRYf1Db",
        "outputId": "753b9ed7-60ab-4dad-9ca5-94ebc155f603"
      },
      "execution_count": 3,
      "outputs": [
        {
          "output_type": "stream",
          "name": "stdout",
          "text": [
            "Dataset loaded successfully!\n",
            "Columns in the updated dataset: Index(['CITY', 'TEMPERATURE ', 'HUMIDITY', 'WIND SPEED'], dtype='object')\n"
          ]
        }
      ]
    },
    {
      "cell_type": "code",
      "source": [
        "print(df.columns)"
      ],
      "metadata": {
        "colab": {
          "base_uri": "https://localhost:8080/"
        },
        "id": "prER8gqVf8oT",
        "outputId": "ba7d4d65-5af9-401b-f696-3d9a869fb83b"
      },
      "execution_count": 4,
      "outputs": [
        {
          "output_type": "stream",
          "name": "stdout",
          "text": [
            "Index(['CITY', 'TEMPERATURE ', 'HUMIDITY', 'WIND SPEED'], dtype='object')\n"
          ]
        }
      ]
    },
    {
      "cell_type": "code",
      "source": [
        "try:\n",
        "    df = pd.read_excel(file_path)\n",
        "    print(\"Dataset loaded successfully!\")\n",
        "    print(\"Columns:\", df.columns)\n",
        "except Exception as e:\n",
        "    print(\"Error loading the file:\", e)\n",
        "\n",
        "df.columns = df.columns.str.strip()\n",
        "\n",
        "\n",
        "user_input = input(\"\\nEnter city names separated by commas (e.g., Mumbai, Delhi): \")\n",
        "user_cities = [city.strip() for city in user_input.split(\",\")]\n",
        "\n",
        "\n",
        "valid_cities = df[\"CITY\"].unique()\n",
        "matched_cities = [city for city in user_cities if city in valid_cities]\n",
        "\n",
        "if not matched_cities:\n",
        "    print(\"No valid cities found in the dataset. Exiting.\")\n",
        "else:\n",
        "    print(f\"\\nProcessing data for the following matched cities: {matched_cities}\")\n",
        "\n",
        "def calculate_weather(temp, humidity, wind_speed):\n",
        "    W = (0.5 * temp**2) - (0.2 * humidity) + (0.1 * wind_speed) - 15\n",
        "    return W\n",
        "\n",
        "\n",
        "\n",
        "def categorize_weather(W):\n",
        "    if W > 300:\n",
        "        return \"Cloudy\"\n",
        "    elif 200 < W <= 300:\n",
        "        return \"Sunny\"\n",
        "    else:\n",
        "        return \"Rainy\"\n",
        "\n",
        "\n",
        "\n",
        "print(\"\\nWeather Prediction Results:\")\n",
        "for city in matched_cities:\n",
        "\n",
        "    city_data = df[df[\"CITY\"] == city].iloc[0]\n",
        "    temp = city_data[\"TEMPERATURE\"]\n",
        "    humidity = city_data[\"HUMIDITY\"]\n",
        "    wind_speed = city_data[\"WIND SPEED\"]\n",
        "\n",
        "\n",
        "    modeled_weather = calculate_weather(temp, humidity, wind_speed)\n",
        "\n",
        "\n",
        "    weather_condition = categorize_weather(modeled_weather)\n",
        "\n",
        "    print(\n",
        "        f\"City: {city}\\n\"\n",
        "        f\"Temperature: {temp} °C\\n\"\n",
        "        f\"Humidity: {humidity} %\\n\"\n",
        "        f\"Wind Speed: {wind_speed} m/s\\n\"\n",
        "        f\"Calculated Weather Value (W): {modeled_weather:.2f}\\n\"\n",
        "        f\"Weather Condition: {weather_condition}\\n\"\n",
        "    )"
      ],
      "metadata": {
        "colab": {
          "base_uri": "https://localhost:8080/"
        },
        "id": "Vb3omdjhgLYh",
        "outputId": "40cca0ff-dfcc-4eec-a917-568ee04352e4"
      },
      "execution_count": 9,
      "outputs": [
        {
          "output_type": "stream",
          "name": "stdout",
          "text": [
            "Dataset loaded successfully!\n",
            "Columns: Index(['CITY', 'TEMPERATURE ', 'HUMIDITY', 'WIND SPEED'], dtype='object')\n",
            "\n",
            "Enter city names separated by commas (e.g., Mumbai, Delhi): Mumbai , Delhi , Pune , Hyderabad\n",
            "\n",
            "Processing data for the following matched cities: ['Mumbai', 'Delhi', 'Pune', 'Hyderabad']\n",
            "\n",
            "Weather Prediction Results:\n",
            "City: Mumbai\n",
            "Temperature: 32 °C\n",
            "Humidity: 75 %\n",
            "Wind Speed: 5.0 m/s\n",
            "Calculated Weather Value (W): 482.50\n",
            "Weather Condition: Cloudy\n",
            "\n",
            "City: Delhi\n",
            "Temperature: 20 °C\n",
            "Humidity: 50 %\n",
            "Wind Speed: 4.5 m/s\n",
            "Calculated Weather Value (W): 175.45\n",
            "Weather Condition: Rainy\n",
            "\n",
            "City: Pune\n",
            "Temperature: 25 °C\n",
            "Humidity: 55 %\n",
            "Wind Speed: 3.2 m/s\n",
            "Calculated Weather Value (W): 286.82\n",
            "Weather Condition: Sunny\n",
            "\n",
            "City: Hyderabad\n",
            "Temperature: 26 °C\n",
            "Humidity: 65 %\n",
            "Wind Speed: 4.0 m/s\n",
            "Calculated Weather Value (W): 310.40\n",
            "Weather Condition: Cloudy\n",
            "\n"
          ]
        }
      ]
    }
  ]
}